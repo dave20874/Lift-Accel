{
  "nbformat": 4,
  "nbformat_minor": 0,
  "metadata": {
    "colab": {
      "provenance": [],
      "authorship_tag": "ABX9TyPyV81VJ3Pc4z5LNuYr2xTv",
      "include_colab_link": true
    },
    "kernelspec": {
      "name": "python3",
      "display_name": "Python 3"
    },
    "language_info": {
      "name": "python"
    }
  },
  "cells": [
    {
      "cell_type": "markdown",
      "metadata": {
        "id": "view-in-github",
        "colab_type": "text"
      },
      "source": [
        "<a href=\"https://colab.research.google.com/github/dave20874/Lift-Accel/blob/master/Arm-Accel.ipynb\" target=\"_parent\"><img src=\"https://colab.research.google.com/assets/colab-badge.svg\" alt=\"Open In Colab\"/></a>"
      ]
    },
    {
      "cell_type": "code",
      "execution_count": 33,
      "metadata": {
        "id": "uEjwC2n6gVFw"
      },
      "outputs": [],
      "source": [
        "%matplotlib inline\n",
        "\n",
        "import matplotlib\n",
        "import numpy as np\n",
        "import matplotlib.pyplot as plt\n",
        "import math\n",
        "\n",
        "class AccelSubsystem:\n",
        "  MIN_X_IN = 0.0\n",
        "  MAX_X_IN = 38.0\n",
        "  MAX_V_IPS = 40.0\n",
        "  ACCEL_IPS2 = 60.0\n",
        "  DELTA_T = 0.02\n",
        "  MIN_VEL_IPS = 1.0\n",
        "  MIN_X_IN = 1.0\n",
        "\n",
        "  def __init__(self):\n",
        "    self.x_in = 0.0\n",
        "    self.v_ips = 0.0\n",
        "    self.desired_x_in = 0.0\n",
        "\n",
        "  def setState(self, x_in=0.0, v_ips=0.0):\n",
        "    self.x_in = x_in\n",
        "    self.v_ips = v_ips\n",
        "\n",
        "  def getState(self):\n",
        "    return (self.x_in, self.v_ips, self.moving)\n",
        "\n",
        "  def moveTo(self, x_in):\n",
        "    self.desired_x_in = x_in\n",
        "    self.moving = True\n",
        "\n",
        "  def periodic(self):\n",
        "    # distance to target\n",
        "    delta_x = self.desired_x_in - self.x_in\n",
        "    v = self.v_ips\n",
        "\n",
        "    # Simplify all the math by assuming we are moving left to right.\n",
        "    # If that's not the case, we'll switch delta_x and fix it afterward.\n",
        "    invert = False\n",
        "\n",
        "    if delta_x < 0.0:\n",
        "      # switch direction\n",
        "      invert = True\n",
        "      delta_x = -delta_x\n",
        "      v = -v\n",
        "\n",
        "    t = math.sqrt(2.0*delta_x / self.ACCEL_IPS2)  # time to cover distance, from stop, at max accel\n",
        "    speed_limit = self.ACCEL_IPS2 * (t - self.DELTA_T)       # can't go faster than this in this distance\n",
        "    if speed_limit > self.MAX_V_IPS:\n",
        "      speed_limit = self.MAX_V_IPS\n",
        "\n",
        "    if (v >= speed_limit):\n",
        "        # Must decel\n",
        "        v -= self.ACCEL_IPS2*self.DELTA_T\n",
        "        # print(\"decel\")\n",
        "    elif (v + self.ACCEL_IPS2*self.DELTA_T < speed_limit):\n",
        "        # May Accel\n",
        "        v += self.ACCEL_IPS2*self.DELTA_T\n",
        "        # print(\"Accel\")\n",
        "    else:\n",
        "        # Maintain current speed\n",
        "        v = v\n",
        "        # print(\"Maintain\")\n",
        "\n",
        "    # How far we'll move in this step.\n",
        "    dx = v*self.DELTA_T\n",
        "\n",
        "    # Un-invert things\n",
        "    if invert:\n",
        "      self.x_in += -dx\n",
        "      self.v_ips = -v\n",
        "    else:\n",
        "      self.x_in += dx\n",
        "      self.v_ips = v\n",
        "\n",
        "    # Check for end condition\n",
        "    new_delta_x = self.desired_x_in - self.x_in\n",
        "    if (abs(self.v_ips) < self.MIN_VEL_IPS) & (abs(new_delta_x) < self.MIN_X_IN):\n",
        "      # Jump to desired position, zero velocity\n",
        "      self.x_in = self.desired_x_in\n",
        "      self.v_ips = 0.0\n",
        "      self.moving = False;\n",
        "\n",
        "\n",
        "    \n",
        "\n",
        "\n",
        "\n",
        "\n"
      ]
    },
    {
      "cell_type": "code",
      "source": [
        "class AccelTest:\n",
        "    DELTA_T = 0.02 # 20ms period\n",
        "    \n",
        "    def __init__(self):\n",
        "        self.subsystem = AccelSubsystem()\n",
        "        \n",
        "    def run(self):\n",
        "        samples = []\n",
        "        t = 0.0\n",
        "        d, v, moving = self.subsystem.getState()\n",
        "        samples.append([t, v, d])\n",
        "        # print(\"t:{:0.2f} d:{:5.2f} v:{:5.2f}\".format(t, d, v))        \n",
        "        \n",
        "        while (moving & (t < 10.0)):\n",
        "            self.subsystem.periodic()\n",
        "            t += AccelTest.DELTA_T\n",
        "            d, v, moving = self.subsystem.getState()\n",
        "            samples.append([t, v, d])\n",
        "            # print(\"t:{:0.2f} d:{:5.2f} v:{:5.2f}\".format(t, d, v))   \n",
        "            \n",
        "        return samples\n",
        "    \n",
        "    def testZeroToMax(self):\n",
        "        self.subsystem.setState(AccelSubsystem.MIN_X_IN)\n",
        "        self.subsystem.moveTo(AccelSubsystem.MAX_X_IN)\n",
        "        return self.run()"
      ],
      "metadata": {
        "id": "RZTIs0g0qXNZ"
      },
      "execution_count": 30,
      "outputs": []
    },
    {
      "cell_type": "code",
      "source": [
        "tester = AccelTest()\n",
        "\n",
        "results = tester.testZeroToMax()\n",
        "t = [x[0] for x in results]\n",
        "x = [x[2] for x in results]\n",
        "\n",
        "plt.plot(t, x)\n",
        "plt.title('Position')\n",
        "plt.show()"
      ],
      "metadata": {
        "colab": {
          "base_uri": "https://localhost:8080/",
          "height": 281
        },
        "id": "JxSeaH8orGsy",
        "outputId": "6a9f7f47-4c85-4286-9a2a-5799666b2368"
      },
      "execution_count": 34,
      "outputs": [
        {
          "output_type": "display_data",
          "data": {
            "text/plain": [
              "<Figure size 432x288 with 1 Axes>"
            ],
            "image/png": "[encoded data removed]"
          },
          "metadata": {
            "needs_background": "light"
          }
        }
      ]
    }
  ]
}