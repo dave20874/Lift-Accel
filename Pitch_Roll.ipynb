{
  "nbformat": 4,
  "nbformat_minor": 0,
  "metadata": {
    "colab": {
      "provenance": [],
      "authorship_tag": "ABX9TyPU7ICMg98+2MmTj9A755zv",
      "include_colab_link": true
    },
    "kernelspec": {
      "name": "python3",
      "display_name": "Python 3"
    },
    "language_info": {
      "name": "python"
    }
  },
  "cells": [
    {
      "cell_type": "markdown",
      "metadata": {
        "id": "view-in-github",
        "colab_type": "text"
      },
      "source": [
        "<a href=\"https://colab.research.google.com/github/dave20874/Lift-Accel/blob/master/Pitch_Roll.ipynb\" target=\"_parent\"><img src=\"https://colab.research.google.com/assets/colab-badge.svg\" alt=\"Open In Colab\"/></a>"
      ]
    },
    {
      "cell_type": "markdown",
      "source": [
        "Functions to translate from a/b to pitch/roll and back.\n"
      ],
      "metadata": {
        "id": "i_d_ySwOE6PY"
      }
    },
    {
      "cell_type": "code",
      "execution_count": 4,
      "metadata": {
        "colab": {
          "base_uri": "https://localhost:8080/"
        },
        "id": "easoGrkxB93m",
        "outputId": "65090796-6128-47e1-fde8-6eee51dfd540"
      },
      "outputs": [
        {
          "output_type": "stream",
          "name": "stdout",
          "text": [
            "It's all good.\n"
          ]
        }
      ],
      "source": [
        "def ab_to_pitch_roll(a, b):\n",
        "  pitch = (a + b)/2.0\n",
        "  roll = (a - b)/2.0\n",
        "  return (pitch, roll)\n",
        "\n",
        "def pitch_roll_to_ab(pitch, roll):\n",
        "  a = pitch + roll\n",
        "  b = pitch - roll\n",
        "  return (a, b)\n",
        "\n",
        "def test_reversible():\n",
        "    inputs = ((0, 0), (1, 1), (-1, 1), (1, -1), (-1, -1), (10, 2))\n",
        "    for (p, r) in inputs:\n",
        "      a, b = pitch_roll_to_ab(p, r)\n",
        "      p2, r2 = ab_to_pitch_roll(a, b)\n",
        "      assert(p == p2)\n",
        "      assert(r == r2)\n",
        "    print(\"It's all good.\")\n",
        "\n",
        "test_reversible()\n"
      ]
    },
    {
      "cell_type": "code",
      "source": [],
      "metadata": {
        "id": "v4FLRiLSE5RI"
      },
      "execution_count": null,
      "outputs": []
    }
  ]
}