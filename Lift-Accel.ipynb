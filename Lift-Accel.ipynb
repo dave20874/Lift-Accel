{
 "cells": [
  {
   "cell_type": "markdown",
   "metadata": {},
   "source": [
    "Create a class to represent the lift subsystem."
   ]
  },
  {
   "cell_type": "code",
   "execution_count": 29,
   "metadata": {},
   "outputs": [],
   "source": [
    "%matplotlib inline\n",
    "\n",
    "import matplotlib\n",
    "import numpy as np\n",
    "import matplotlib.pyplot as plt\n",
    "import math\n",
    "\n",
    "class LiftSubsystem:\n",
    "    BOTTOM = 0.0\n",
    "    MID = 28.0\n",
    "    TOP = 56.0\n",
    "    MAX_VEL_IPS = 100.0 # inches per second\n",
    "    ACCEL_IPS2 = 200.0 # inches per second per second\n",
    "    H = 0.02  # 20ms period\n",
    "    MIN_DIST = 1.0\n",
    "    MIN_VEL = 1.0\n",
    "    \n",
    "    def __init__(self):\n",
    "        self.autoActive = False\n",
    "        self.autoDistance = 0.0\n",
    "        self.pos_in = 0.0\n",
    "        self.vel_ips = 0.0\n",
    "    \n",
    "    def setState(self, pos_in=0.0, vel_ips=0.0):\n",
    "        self.pos_in = pos_in\n",
    "        self.vel_ips = vel_ips\n",
    "        self.autoDistance = 0.0;\n",
    "        self.autoActive = False\n",
    "        \n",
    "    def periodic(self):\n",
    "        if (self.autoActive):\n",
    "            # print(\"periodic: autoDistance:{:5.2f}, vel_ips:{:5.2f} \".format(self.autoDistance, self.vel_ips))\n",
    "            \n",
    "            if self.autoDistance >= 0:\n",
    "                # Moving up\n",
    "                d = self.autoDistance\n",
    "                v = self.vel_ips\n",
    "                a = self.ACCEL_IPS2\n",
    "                up = True\n",
    "            else:\n",
    "                # Moving down\n",
    "                d = -self.autoDistance\n",
    "                v = -self.vel_ips\n",
    "                a = self.ACCEL_IPS2\n",
    "                up = False\n",
    "                \n",
    "            t = math.sqrt(2.0*d / self.ACCEL_IPS2)  # time to cover distance, from stop, at max accel\n",
    "            speed_limit = self.ACCEL_IPS2 * (t - self.H)       # can't go faster than this in this distance\n",
    "            \n",
    "            # print(\"d:{:5.2f} t:{:5.2f} limit:{:5.2f} v:{:5.2f}\".format(d, t, speed_limit, v))\n",
    "            \n",
    "            # Update velocity\n",
    "            if ((v >= speed_limit) | (v > self.MAX_VEL_IPS)):\n",
    "                # Must decel\n",
    "                v -= self.ACCEL_IPS2*self.H\n",
    "                # print(\"decel\")\n",
    "            elif (v + a*self.H < speed_limit) & ((v + a*self.H) < self.MAX_VEL_IPS):\n",
    "                # May Accel\n",
    "                v += self.ACCEL_IPS2*self.H\n",
    "                # print(\"Accel\")\n",
    "            else:\n",
    "                # Maintain current speed\n",
    "                v = v\n",
    "                # print(\"Maintain\")\n",
    "\n",
    "            # Update position\n",
    "            dx = v*self.H\n",
    "            \n",
    "            if (up):\n",
    "                self.autoDistance -= dx\n",
    "                self.pos_in += dx\n",
    "                self.vel_ips = v\n",
    "            else:\n",
    "                self.pos_in -= dx\n",
    "                self.autoDistance += dx\n",
    "                self.vel_ips = -v\n",
    "            \n",
    "            # Check for end condition\n",
    "            if ((abs(self.vel_ips) < self.MIN_VEL) & (abs(self.autoDistance) < self.MIN_DIST)):\n",
    "                # Auto move is done\n",
    "                self.autoDistance = 0.0\n",
    "                self.autoActive = False\n",
    "    \n",
    "    def setAutoPosition(self, pos_in):\n",
    "        # Compute distance to move in auto mode\n",
    "        self.autoDistance = pos_in - self.pos_in\n",
    "        self.autoActive = True\n",
    "    \n",
    "    def getPosVel(self):\n",
    "        return (self.pos_in, self.vel_ips)\n",
    "    \n",
    "    def getAutoActive(self):\n",
    "        return self.autoActive\n",
    "    "
   ]
  },
  {
   "cell_type": "markdown",
   "metadata": {},
   "source": [
    "Create a class to test the lift."
   ]
  },
  {
   "cell_type": "code",
   "execution_count": 30,
   "metadata": {
    "collapsed": true
   },
   "outputs": [],
   "source": [
    "class LiftTest:\n",
    "    H = 0.02 # 20ms period\n",
    "    \n",
    "    def __init__(self):\n",
    "        self.lift = LiftSubsystem()\n",
    "        \n",
    "    def run(self):\n",
    "        samples = []\n",
    "        t = 0.0\n",
    "        d, v = self.lift.getPosVel()\n",
    "        samples.append([t, v, d])\n",
    "        # print(\"t:{:0.2f} d:{:5.2f} v:{:5.2f}\".format(t, d, v))        \n",
    "        \n",
    "        while (self.lift.getAutoActive()):\n",
    "            self.lift.periodic()\n",
    "            t += LiftTest.H\n",
    "            d, v = self.lift.getPosVel()\n",
    "            samples.append([t, v, d])\n",
    "            # print(\"t:{:0.2f} d:{:5.2f} v:{:5.2f}\".format(t, d, v))   \n",
    "            \n",
    "        return samples\n",
    "    \n",
    "    def testBottomToMid(self):\n",
    "        self.lift.setState(LiftSubsystem.BOTTOM)\n",
    "        self.lift.setAutoPosition(LiftSubsystem.MID)\n",
    "        return self.run()\n",
    "    \n",
    "    def testBottomToTop(self):\n",
    "        self.lift.setState(LiftSubsystem.BOTTOM)\n",
    "        self.lift.setAutoPosition(LiftSubsystem.TOP)\n",
    "        return self.run()\n",
    "    \n",
    "    def testMidToTop(self):\n",
    "        self.lift.setState(LiftSubsystem.MID)\n",
    "        self.lift.setAutoPosition(LiftSubsystem.TOP)\n",
    "        return self.run()\n",
    "    \n",
    "    def testMidToBottom(self):\n",
    "        self.lift.setState(LiftSubsystem.MID)\n",
    "        self.lift.setAutoPosition(LiftSubsystem.BOTTOM)\n",
    "        return self.run()\n",
    "    \n",
    "    def testTopToMid(self):\n",
    "        self.lift.setState(LiftSubsystem.TOP)\n",
    "        self.lift.setAutoPosition(LiftSubsystem.MID)\n",
    "        return self.run()\n",
    "    \n",
    "    def testTopToBottom(self):\n",
    "        self.lift.setState(LiftSubsystem.TOP)\n",
    "        self.lift.setAutoPosition(LiftSubsystem.BOTTOM)\n",
    "        return self.run()\n",
    "        \n",
    "    def testOvershoot(self):\n",
    "        self.lift.setState(LiftSubsystem.MID-10, 60.0)\n",
    "        self.lift.setAutoPosition(LiftSubsystem.MID)\n",
    "        return self.run()\n",
    "            \n",
    "    def testOvershoot2(self):\n",
    "        self.lift.setState(LiftSubsystem.MID+10, -60.0)\n",
    "        self.lift.setAutoPosition(LiftSubsystem.MID)\n",
    "        return self.run()\n"
   ]
  },
  {
   "cell_type": "markdown",
   "metadata": {},
   "source": [
    "Run a test\n"
   ]
  },
  {
   "cell_type": "code",
   "execution_count": 32,
   "metadata": {},
   "outputs": [
    {
     "data": {
      "image/png": "[encoded data removed]",
      "text/plain": [
       "<matplotlib.figure.Figure at 0x10f77aa4e80>"
      ]
     },
     "metadata": {},
     "output_type": "display_data"
    }
   ],
   "source": [
    "tester = LiftTest()\n",
    "\n",
    "results = tester.testBottomToMid()\n",
    "t = [x[0] for x in results]\n",
    "x = [x[2] for x in results]\n",
    "\n",
    "plt.plot(t, x)\n",
    "plt.title('Position')\n",
    "plt.show()"
   ]
  },
  {
   "cell_type": "code",
   "execution_count": null,
   "metadata": {
    "collapsed": true
   },
   "outputs": [],
   "source": []
  }
 ],
 "metadata": {
  "kernelspec": {
   "display_name": "Python 3",
   "language": "python",
   "name": "python3"
  },
  "language_info": {
   "codemirror_mode": {
    "name": "ipython",
    "version": 3
   },
   "file_extension": ".py",
   "mimetype": "text/x-python",
   "name": "python",
   "nbconvert_exporter": "python",
   "pygments_lexer": "ipython3",
   "version": "3.6.3"
  }
 },
 "nbformat": 4,
 "nbformat_minor": 2
}
